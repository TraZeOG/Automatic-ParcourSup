{
 "cells": [
  {
   "cell_type": "markdown",
   "metadata": {},
   "source": [
    "Automatic ParcourSup is a web scraping program that gathers your positions in the different queues off of ParcourSup (french)"
   ]
  },
  {
   "cell_type": "markdown",
   "metadata": {},
   "source": [
    "what could be added:\n",
    "\n",
    "- add a way to automatickly send the positions using emails or wathsapp idk\n",
    "- make the UI more digestable (it's ugly rn ngl)\n",
    "- add a way to copy all the positions to clipboard or smthg"
   ]
  },
  {
   "cell_type": "markdown",
   "metadata": {},
   "source": [
    "Caution: you need to have a certain version of Google Chrome in order to run this program (I think it's 126.0.6478.62)\n",
    "if you don't have this version of Chrome, you need to download the appropriate Chrome driver and replace the one that is currently in the foler (file named chrome_driver.exe or smthg)\n",
    "^-- to download you webdriver it's quite simple actually, just copy the link below and replace the \"YOUR_VERSION\" text with the version of Chrome on your PC (i struggled a lot to download this driver it wasn't straightforward at all so you're lucky that i've done all the research for you)\n"
   ]
  },
  {
   "cell_type": "markdown",
   "metadata": {},
   "source": [
    "https://storage.googleapis.com/chrome-for-testing-public/YOUR_VERSION/win32/chromedriver-win32.zip\n",
    "\n",
    "https://storage.googleapis.com/chrome-for-testing-public/YOUR_VERSION/win64/chromedriver-win64.zip\n",
    "\n",
    "https://storage.googleapis.com/chrome-for-testing-public/YOUR_VERSION/mac-x64/chromedriver-mac-x64.zip\n",
    "\n",
    "https://storage.googleapis.com/chrome-for-testing-public/YOUR_VERSION/mac-arm64/chromedriver-mac-arm64.zip\n",
    "\n",
    "https://storage.googleapis.com/chrome-for-testing-public/YOUR_VERSION/linux64/chromedriver-linux64.zip"
   ]
  }
 ],
 "metadata": {
  "language_info": {
   "name": "python"
  }
 },
 "nbformat": 4,
 "nbformat_minor": 2
}
